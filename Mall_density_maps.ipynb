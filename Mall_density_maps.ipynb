{
  "metadata": {
    "colab": {
      "provenance": [],
      "gpuType": "T4"
    },
    "kernelspec": {
      "name": "python3",
      "display_name": "Python 3",
      "language": "python"
    },
    "language_info": {
      "name": "python",
      "version": "3.10.13",
      "mimetype": "text/x-python",
      "codemirror_mode": {
        "name": "ipython",
        "version": 3
      },
      "pygments_lexer": "ipython3",
      "nbconvert_exporter": "python",
      "file_extension": ".py"
    },
    "accelerator": "GPU",
    "kaggle": {
      "accelerator": "none",
      "dataSources": [],
      "dockerImageVersionId": 30746,
      "isInternetEnabled": true,
      "language": "python",
      "sourceType": "notebook",
      "isGpuEnabled": false
    }
  },
  "nbformat_minor": 5,
  "nbformat": 4,
  "cells": [
    {
      "cell_type": "markdown",
      "source": [
        "# Load Mall Dataset"
      ],
      "metadata": {
        "id": "943b8734-d904-48f1-a832-46695b8da3ab"
      },
      "id": "943b8734-d904-48f1-a832-46695b8da3ab"
    },
    {
      "cell_type": "code",
      "source": [
        "from google.colab import drive\n",
        "drive.mount('/content/drive')"
      ],
      "metadata": {
        "id": "ZfxAGdjP9xz2"
      },
      "execution_count": null,
      "outputs": [],
      "id": "ZfxAGdjP9xz2"
    },
    {
      "cell_type": "code",
      "source": [
        "cd \"/content/drive/MyDrive/mall_dataset\""
      ],
      "metadata": {
        "id": "rEgaM5-n93TK"
      },
      "execution_count": null,
      "outputs": [],
      "id": "rEgaM5-n93TK"
    },
    {
      "cell_type": "code",
      "source": [
        "import numpy as np\n",
        "import os\n",
        "import matplotlib.pyplot as plt\n",
        "import cv2\n",
        "from scipy.io import loadmat\n",
        "from matplotlib.colors import LogNorm\n",
        "import matplotlib.cm as cm\n",
        "import time\n",
        "import skimage.measure\n",
        "import random\n",
        "import os\n",
        "from PIL import Image,ImageFilter,ImageDraw,ImageStat\n",
        "import numpy as np\n",
        "import h5py\n",
        "import cv2\n",
        "import torch\n",
        "from torch.utils.data import Dataset\n",
        "import torchvision.transforms.functional as F\n",
        "import shutil\n",
        "import torch.nn as nn\n",
        "from torchvision import models\n",
        "import scipy.io as io\n",
        "import PIL.Image as Image\n",
        "import glob\n",
        "from matplotlib import pyplot as plt\n",
        "from scipy.ndimage import gaussian_filter\n",
        "import scipy\n",
        "import json\n",
        "from matplotlib import cm as CM\n",
        "\n",
        "%matplotlib inline\n"
      ],
      "metadata": {
        "id": "efc6ec49-5df8-495d-9bb5-55bed814f776"
      },
      "execution_count": null,
      "outputs": [],
      "id": "efc6ec49-5df8-495d-9bb5-55bed814f776"
    },
    {
      "cell_type": "code",
      "source": [
        "#Print some images from the dataset\n",
        "\n",
        "path_images = './frames'\n",
        "\n",
        "if not os.path.exists(path_images):\n",
        "    print(f\"The folder {path_images} doesn't exist.\")\n",
        "else:\n",
        "    imgs = os.listdir(path_images)\n",
        "    imgs = sorted([file for file in imgs if file.endswith('.jpg')])\n",
        "\n",
        "    if not imgs:\n",
        "        print(\"No image .jpg found in the folder.\")\n",
        "    else:\n",
        "        selected_imgs = imgs[:5]\n",
        "        fig, axes = plt.subplots(1, 5, figsize=(20, 5))\n",
        "\n",
        "        for ax, image in zip(axes, selected_imgs):\n",
        "            try:\n",
        "                path = os.path.join(path_images, image)\n",
        "                img = Image.open(path)\n",
        "                ax.imshow(img)\n",
        "                ax.set_title(image)\n",
        "                ax.axis('off')\n",
        "\n",
        "            except Exception as e:\n",
        "                print(f\"Error in the image opening {image}: {e}\")\n",
        "\n",
        "        plt.tight_layout()\n",
        "        plt.show()\n"
      ],
      "metadata": {
        "id": "SSM4cfcB30yC"
      },
      "execution_count": null,
      "outputs": [],
      "id": "SSM4cfcB30yC"
    },
    {
      "cell_type": "code",
      "source": [
        "mall_gt = io.loadmat(os.path.join(\"./\", 'mall_gt.mat'))\n",
        "mall_head_pos = mall_gt['frame'][0]"
      ],
      "metadata": {
        "id": "bg1PcNIq5oFl"
      },
      "execution_count": null,
      "outputs": [],
      "id": "bg1PcNIq5oFl"
    },
    {
      "cell_type": "code",
      "source": [
        "#Changing the first index, we have the coordinates of the heads in the corresponding image\n",
        "mall_head_pos[0][0][0][0][:,0]"
      ],
      "metadata": {
        "id": "7r-owKtq9Uiu"
      },
      "execution_count": null,
      "outputs": [],
      "id": "7r-owKtq9Uiu"
    },
    {
      "cell_type": "markdown",
      "source": [
        "## Image of Mall Dataset Examples"
      ],
      "metadata": {
        "id": "0x65yFSDr84-"
      },
      "id": "0x65yFSDr84-"
    },
    {
      "cell_type": "code",
      "source": [
        "import os\n",
        "import scipy.io\n",
        "from PIL import Image\n",
        "import matplotlib.pyplot as plt\n",
        "\n",
        "def visualize_images_with_annotations(image_paths, annotations, num_images):\n",
        "    plt.figure(figsize=(num_images * 6, 6))\n",
        "\n",
        "    for i in range(num_images):\n",
        "        img_path = image_paths[i]\n",
        "        annotation = annotations[i]\n",
        "\n",
        "        img = Image.open(img_path)\n",
        "\n",
        "        plt.subplot(1, num_images, i + 1)\n",
        "        plt.imshow(img)\n",
        "        plt.title(f\"Image {i + 1}\")\n",
        "\n",
        "        for x, y in annotation:\n",
        "            plt.scatter(round(x), round(y), s=50, marker=\"x\", color=\"r\")\n",
        "\n",
        "        plt.axis('off')\n",
        "\n",
        "    plt.tight_layout()\n",
        "    plt.show()\n",
        "\n",
        "path_images = './frames'\n",
        "num_images_to_show = 5\n",
        "\n",
        "\n",
        "imgs = os.listdir(path_images)\n",
        "\n",
        "\n",
        "imgs = sorted([file for file in imgs if file.endswith('.jpg')])\n",
        "\n",
        "selected_imgs = imgs[:num_images_to_show]\n",
        "\n",
        "image_paths = [os.path.join(path_images, img) for img in selected_imgs]\n",
        "\n",
        "annotations = [mall_head_pos[i][0][0][0] for i in range(num_images_to_show)]\n",
        "\n",
        "visualize_images_with_annotations(image_paths, annotations, 5)\n"
      ],
      "metadata": {
        "id": "R115U74EDdY0"
      },
      "execution_count": null,
      "outputs": [],
      "id": "R115U74EDdY0"
    },
    {
      "cell_type": "code",
      "source": [
        "import os\n",
        "import cv2\n",
        "import matplotlib.pyplot as plt\n",
        "\n",
        "path = \"/content/drive/MyDrive/mall_dataset/frames\"\n",
        "\n",
        "for name in sorted(os.listdir(path)):\n",
        "\n",
        "    if name.startswith('.ipynb_checkpoints'):\n",
        "        continue\n",
        "\n",
        "    print(name)\n",
        "\n",
        "    img_path = os.path.join(path, name)\n",
        "    print(f\"Image loading: {img_path}\")\n",
        "\n",
        "\n",
        "    img = cv2.imread(img_path)\n",
        "\n",
        "    if img is None:\n",
        "        print(f\"Error in image loading : {img_path}\")\n",
        "        continue\n",
        "\n",
        "    img = cv2.cvtColor(img, cv2.COLOR_BGR2RGB)\n",
        "\n",
        "    plt.imshow(img)\n",
        "    plt.title(name)\n",
        "    plt.axis('off')\n",
        "    plt.show()\n",
        "\n",
        "    break"
      ],
      "metadata": {
        "id": "vPHNXPVCA9kb"
      },
      "execution_count": null,
      "outputs": [],
      "id": "vPHNXPVCA9kb"
    },
    {
      "cell_type": "markdown",
      "source": [
        "# Density Map Function"
      ],
      "metadata": {
        "id": "XzbZOtSWr85G"
      },
      "id": "XzbZOtSWr85G"
    },
    {
      "cell_type": "code",
      "source": [
        "heads= mall_head_pos[0]\n",
        "\n",
        "def density_map(image, heads):\n",
        "    output = np.zeros(image.shape[:-1])\n",
        "    x = heads[0][0][0][:,0]\n",
        "    y = heads[0][0][0][:,1]\n",
        "\n",
        "    for x_choord, y_choord in zip(x, y):\n",
        "        density_i = np.zeros(image.shape[:-1])\n",
        "        try:\n",
        "            density_i[round(y_choord),round(x_choord)] = 1\n",
        "        except:\n",
        "            pass\n",
        "        nearest_distance = np.min(np.linalg.norm(x_choord - y_choord))\n",
        "        sigma = 0.3 * nearest_distance\n",
        "        kernel_size = 3\n",
        "\n",
        "        density_i = cv2.GaussianBlur(density_i, (kernel_size,kernel_size), sigma)\n",
        "        output += density_i\n",
        "    return cv2.GaussianBlur(output, (51,51), sigma)\n",
        "\n",
        "start = time.time()\n",
        "ds_map = density_map(img, heads)\n",
        "print(f\"Time: {time.time() - start}\")"
      ],
      "metadata": {
        "id": "86a16f1b-661f-4f29-9917-7a8ffc8153e3"
      },
      "execution_count": null,
      "outputs": [],
      "id": "86a16f1b-661f-4f29-9917-7a8ffc8153e3"
    },
    {
      "cell_type": "code",
      "source": [
        "plt.figure(figsize=(12, 6))\n",
        "plt.subplot(1, 2, 1)\n",
        "plt.axis(\"off\")\n",
        "plt.imshow(img)\n",
        "plt.subplot(1, 2, 2)\n",
        "plt.axis(\"off\")\n",
        "_=plt.imshow(ds_map , cmap = cm.jet)"
      ],
      "metadata": {
        "id": "b869f19d-bc69-4a66-a73b-eebb4f32f43f"
      },
      "execution_count": null,
      "outputs": [],
      "id": "b869f19d-bc69-4a66-a73b-eebb4f32f43f"
    },
    {
      "cell_type": "markdown",
      "source": [
        "## Downsampled version"
      ],
      "metadata": {
        "id": "7411a748-02cd-4570-8b90-d20f0dee5fcf"
      },
      "id": "7411a748-02cd-4570-8b90-d20f0dee5fcf"
    },
    {
      "cell_type": "code",
      "source": [
        "def density_map_1_over_8(image, heads):\n",
        "    image = skimage.measure.block_reduce(image, (2,2,1), np.max)\n",
        "    image = skimage.measure.block_reduce(image, (2,2,1), np.max)\n",
        "    image = skimage.measure.block_reduce(image, (2,2,1), np.max)\n",
        "\n",
        "    output = np.zeros(image.shape[:-1])\n",
        "    x = heads[0][0][0][:,0]/8\n",
        "    y = heads[0][0][0][:,1]/8\n",
        "\n",
        "    for x_choord, y_choord in zip(x, y):\n",
        "        density_i = np.zeros(image.shape[:-1])\n",
        "        try:\n",
        "            density_i[round(y_choord),round(x_choord)] = 1\n",
        "        except:\n",
        "            pass\n",
        "        nearest_distance = np.min(np.linalg.norm(x_choord - y_choord))\n",
        "        sigma = 0.3 * nearest_distance # beta = 0.3 suggested by MCNN paper\n",
        "        kernel_size = 3\n",
        "\n",
        "        density_i = cv2.GaussianBlur(density_i, (kernel_size,kernel_size), sigma)\n",
        "        output += density_i\n",
        "    return cv2.GaussianBlur(output, (5,5), sigma)\n",
        "\n",
        "start = time.time()\n",
        "ds_map = density_map_1_over_8(img, heads)\n",
        "print(f\"Time: {time.time() - start}\")"
      ],
      "metadata": {
        "id": "75772bc2-7ac5-42a3-9929-1afc1dafcc5b"
      },
      "execution_count": null,
      "outputs": [],
      "id": "75772bc2-7ac5-42a3-9929-1afc1dafcc5b"
    },
    {
      "cell_type": "markdown",
      "source": [
        "# Conversion"
      ],
      "metadata": {
        "id": "c7ffefcf-db83-4a3e-912a-88d3201a0af2"
      },
      "id": "c7ffefcf-db83-4a3e-912a-88d3201a0af2"
    },
    {
      "cell_type": "code",
      "source": [
        "import os\n",
        "import cv2\n",
        "from scipy.io import loadmat\n",
        "import numpy as np\n",
        "\n",
        "\n",
        "path_images = \"/content/drive/MyDrive/mall_dataset/frames/\"\n",
        "path_save = \"/content/drive/MyDrive/mall_dataset/density_maps/\"\n",
        "\n",
        "\n",
        "\n",
        "\n",
        "for i, img_name in enumerate(sorted(os.listdir(path_images))):\n",
        "    if img_name.startswith('.ipynb_checkpoints') or not img_name.endswith('.jpg'):\n",
        "        continue\n",
        "\n",
        "    img_path = os.path.join(path_images, img_name)\n",
        "    print(f\"Image loading: {img_path}\")\n",
        "\n",
        "    img = cv2.imread(img_path)\n",
        "    if img is None:\n",
        "        print(f\"Error in image loading: {img_path}\")\n",
        "        continue\n",
        "\n",
        "    img = cv2.cvtColor(img, cv2.COLOR_BGR2RGB)\n",
        "\n",
        "    heads = mall_head_pos[i-1]\n",
        "\n",
        "    ds_map_1o8 = density_map_1_over_8(img, heads)\n",
        "\n",
        "    save_path = os.path.join(path_save, img_name[:-4] + '.npy')\n",
        "    np.save(save_path, ds_map_1o8)\n",
        "\n",
        "    plt.figure(figsize=(12, 6))\n",
        "\n",
        "    plt.subplot(1, 2, 1)\n",
        "    plt.imshow(img)\n",
        "    plt.title(f\"Original Image: {img_name}\")\n",
        "    plt.axis('off')\n",
        "\n",
        "    plt.subplot(1, 2, 2)\n",
        "    plt.imshow(ds_map_1o8, cmap=cm.jet)\n",
        "    plt.title(f\"Density Map: {img_name[:-4]}\")\n",
        "    plt.axis('off')\n",
        "\n",
        "    plt.show()\n",
        "\n",
        "    if i % 10 == 0:\n",
        "        print(f\"{i + 1} density maps generated\")\n",
        "\n",
        "print(f\"A total of {i + 1} Density Maps generated.\")\n"
      ],
      "metadata": {
        "colab": {
          "background_save": true
        },
        "id": "uQ6eRpTJbRFc",
        "jupyter": {
          "outputs_hidden": true
        }
      },
      "execution_count": null,
      "outputs": [],
      "id": "uQ6eRpTJbRFc"
    }
  ]
}