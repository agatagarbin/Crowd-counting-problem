{
  "metadata": {
    "kernelspec": {
      "language": "python",
      "display_name": "Python 3",
      "name": "python3"
    },
    "language_info": {
      "name": "python",
      "version": "3.10.13",
      "mimetype": "text/x-python",
      "codemirror_mode": {
        "name": "ipython",
        "version": 3
      },
      "pygments_lexer": "ipython3",
      "nbconvert_exporter": "python",
      "file_extension": ".py"
    },
    "kaggle": {
      "accelerator": "nvidiaTeslaT4",
      "dataSources": [
        {
          "sourceId": 8958002,
          "sourceType": "datasetVersion",
          "datasetId": 5391451
        },
        {
          "sourceId": 8958006,
          "sourceType": "datasetVersion",
          "datasetId": 5391454
        }
      ],
      "dockerImageVersionId": 30747,
      "isInternetEnabled": true,
      "language": "python",
      "sourceType": "notebook",
      "isGpuEnabled": true
    },
    "colab": {
      "provenance": []
    }
  },
  "nbformat_minor": 0,
  "nbformat": 4,
  "cells": [
    {
      "cell_type": "code",
      "source": [
        "import numpy as np\n",
        "import matplotlib.pyplot as plt\n",
        "import cv2\n",
        "import random\n",
        "import os\n",
        "from scipy.io import loadmat\n",
        "from sklearn.model_selection import train_test_split\n",
        "import matplotlib.cm as cm\n",
        "import time\n",
        "import scipy.io as io\n",
        "\n",
        "import skimage.measure\n",
        "from keras.initializers import RandomNormal\n",
        "from keras.callbacks import ModelCheckpoint\n",
        "from keras.models import *\n",
        "from keras.layers import *\n",
        "from keras.optimizers import SGD\n",
        "from keras.optimizers import Adam\n",
        "from keras.models import model_from_json\n",
        "import tensorflow as tf\n",
        "from tensorflow.keras.applications import Xception\n",
        "from tensorflow.keras.applications import InceptionV3\n",
        "from tensorflow.keras.applications import ResNet50\n",
        "from tensorflow.keras.applications import VGG16\n",
        "from tensorflow.keras.applications import MobileNetV2\n",
        "from tensorflow.keras.applications.vgg16 import preprocess_input\n",
        "\n",
        "from tensorflow.keras.layers import GlobalAveragePooling2D, Dense\n",
        "from tensorflow.keras.models import Model\n",
        "from tensorflow.keras.callbacks import ModelCheckpoint, EarlyStopping, ReduceLROnPlateau\n",
        "from tensorflow.keras.preprocessing.image import ImageDataGenerator"
      ],
      "metadata": {
        "_uuid": "8f2839f25d086af736a60e9eeb907d3b93b6e0e5",
        "_cell_guid": "b1076dfc-b9ad-4769-8c92-a6c4dae69d19",
        "trusted": true,
        "id": "ETu05c7YdsyX"
      },
      "execution_count": null,
      "outputs": []
    },
    {
      "cell_type": "code",
      "source": [
        "np.random.seed(16)\n",
        "tf.random.set_seed(16)\n",
        "random.seed(16)"
      ],
      "metadata": {
        "trusted": true,
        "id": "shCxU8vLdsya"
      },
      "execution_count": null,
      "outputs": []
    },
    {
      "cell_type": "code",
      "source": [
        "Train_imgs = []\n",
        "Train_labels = []\n",
        "\n",
        "path_images_train = \".../shanghai299/images_train299/\"\n",
        "path_heads_train = \".../shanghai299/ground_truth/\"\n",
        "\n",
        "\n",
        "\n",
        "for img_name, heads_name in zip(sorted(os.listdir(path = path_images_train)), sorted(os.listdir(path = path_heads_train))):\n",
        "\n",
        "    img = preprocess_input(cv2.cvtColor(cv2.imread(path_images_train + img_name), cv2.COLOR_BGR2RGB))\n",
        "    Train_imgs.append(img)\n",
        "\n",
        "    Train_labels.append(len(loadmat(path_heads_train + heads_name)['image_info'][0, 0][0, 0][0]))\n",
        "\n",
        "\n",
        "Train_imgs = np.asarray(Train_imgs)\n",
        "Train_labels = np.asarray(Train_labels)"
      ],
      "metadata": {
        "trusted": true,
        "id": "zzoevoAhdsyb"
      },
      "execution_count": null,
      "outputs": []
    },
    {
      "cell_type": "code",
      "source": [
        "Test_imgs = []\n",
        "Test_labels = []\n",
        "\n",
        "path_images_test = \".../shanghai299/images_test299/\"\n",
        "path_heads_test = \".../shanghai299/ground_truth/\"\n",
        "\n",
        "\n",
        "\n",
        "for img_name, heads_name in zip(sorted(os.listdir(path = path_images_test)), sorted(os.listdir(path = path_heads_test))):\n",
        "\n",
        "    img = preprocess_input(cv2.cvtColor(cv2.imread(path_images_test + img_name), cv2.COLOR_BGR2RGB))\n",
        "    Test_imgs.append(img)\n",
        "\n",
        "    Test_labels.append(len(loadmat(path_heads_test + heads_name)['image_info'][0, 0][0, 0][0]))\n",
        "\n",
        "\n",
        "Test_imgs = np.asarray(Test_imgs)\n",
        "Test_labels = np.asarray(Test_labels)"
      ],
      "metadata": {
        "trusted": true,
        "id": "WyebsSjfdsyb"
      },
      "execution_count": null,
      "outputs": []
    },
    {
      "cell_type": "code",
      "source": [
        "# Model\n",
        "\n",
        "base_model = InceptionV3(weights='imagenet', include_top=False, input_shape=(299, 299, 3))\n",
        "# base_model = VGG16(weights='imagenet', include_top=False, input_shape=(224, 224, 3))\n",
        "# base_model = ResNet50(weights='imagenet', include_top=False, input_shape=(224, 224, 3))\n",
        "# base_model = MobileNetV2(weights='imagenet', include_top=False, input_shape=(224, 224, 3))\n",
        "\n",
        "x = base_model.output\n",
        "x = GlobalAveragePooling2D()(x)\n",
        "predictions = Dense(1, activation='linear')(x)\n",
        "model = Model(inputs=base_model.input, outputs=predictions)\n",
        "\n",
        "model.compile(optimizer=tf.keras.optimizers.Adam(learning_rate=1e-6, decay=5e-4), loss=\"mae\", metrics=[\"mae\"])\n",
        "\n",
        "# Data Augmentation\n",
        "#datagen = ImageDataGenerator(\n",
        "#    rotation_range=20,\n",
        "#    width_shift_range=0.2,\n",
        "#    height_shift_range=0.2,\n",
        "#    shear_range=0.2,\n",
        "#    zoom_range=0.2,\n",
        "#    horizontal_flip=True,\n",
        "#    fill_mode='nearest',\n",
        "#    validation_split=0.2)\n",
        "\n",
        "checkpoint_filepath = './inception_crowd_counting_best.weights.h5'\n",
        "model_checkpoint_callback = ModelCheckpoint(\n",
        "    filepath=checkpoint_filepath,\n",
        "    save_weights_only=True,\n",
        "    monitor='val_mae',\n",
        "    mode='min',\n",
        "    save_best_only=True,\n",
        "    verbose=1)\n",
        "\n",
        "#early_stopping = EarlyStopping(monitor='val_mae', patience=10, restore_best_weights=True)\n",
        "#reduce_lr = ReduceLROnPlateau(monitor='val_mae', factor=0.2, patience=5, min_lr=1e-6)\n",
        "\n",
        "history = model.fit(Train_imgs, Train_labels,\n",
        "                    batch_size=32, epochs=100,\n",
        "                    validation_split=0.2,\n",
        "                    # callbacks=[model_checkpoint_callback, early_stopping, reduce_lr]\n",
        "                    callbacks=[model_checkpoint_callback])\n",
        "\n",
        "\n",
        "model.save('inception_crowd_counting_final.weights.h5')"
      ],
      "metadata": {
        "trusted": true,
        "id": "tLWQpZl4dsyb"
      },
      "execution_count": null,
      "outputs": []
    },
    {
      "cell_type": "code",
      "source": [
        "plt.plot(history.history['loss'], label='train_loss')\n",
        "plt.plot(history.history['val_loss'], label='val_loss')\n",
        "plt.title('Model Loss')\n",
        "plt.xlabel('Epoch')\n",
        "plt.ylabel('Loss')\n",
        "plt.legend()\n",
        "plt.show()\n",
        "\n",
        "plt.plot(history.history['mae'], label='train_mae')\n",
        "plt.plot(history.history['val_mae'], label='val_mae')\n",
        "plt.title('Mean Absolute Error')\n",
        "plt.xlabel('Epoch')\n",
        "plt.ylabel('MAE')\n",
        "plt.legend()\n",
        "plt.show()"
      ],
      "metadata": {
        "trusted": true,
        "id": "9akht3Rvdsyc"
      },
      "execution_count": null,
      "outputs": []
    },
    {
      "cell_type": "code",
      "source": [
        "def test_model(model, test_imgs, test_labels, file_parameters_path):\n",
        "    model.load_weights(file_parameters_path)\n",
        "\n",
        "    mae_error = 0\n",
        "    mse_error = 0\n",
        "    mape_error = 0\n",
        "\n",
        "\n",
        "    N = len(Test_labels)\n",
        "    for i, (x, y) in enumerate(zip(Test_imgs, Test_labels)):\n",
        "\n",
        "        print(i)\n",
        "\n",
        "        mae_error += np.abs(np.sum(model.predict(np.reshape(np.asarray(x),(1, x.shape[0], x.shape[1], x.shape[2])))) - y)\n",
        "        mse_error += np.square(np.sum(model.predict(np.reshape(np.asarray(x),(1, x.shape[0], x.shape[1], x.shape[2])))) - y)\n",
        "        mape_error += np.abs((np.sum(model.predict(np.reshape(np.asarray(x),(1, x.shape[0], x.shape[1], x.shape[2])))) - y) / y)* 100\n",
        "\n",
        "    return mae_error/N, np.sqrt(mse_error/N), mape_error/N\n",
        "\n",
        "mae, mse, mape  = test_model(model, Test_imgs, Test_labels, checkpoint_filepath)\n",
        "print(f\"Mean Absolute Error: {mae}, Mean Square Error: {mse}, Mean Absolute Percentage Error:{mape}\")"
      ],
      "metadata": {
        "trusted": true,
        "id": "QJgTVvfQdsyc"
      },
      "execution_count": null,
      "outputs": []
    }
  ]
}