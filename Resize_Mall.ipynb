{
  "metadata": {
    "colab": {
      "provenance": []
    },
    "kernelspec": {
      "name": "python3",
      "display_name": "Python 3",
      "language": "python"
    },
    "language_info": {
      "name": "python",
      "version": "3.10.13",
      "mimetype": "text/x-python",
      "codemirror_mode": {
        "name": "ipython",
        "version": 3
      },
      "pygments_lexer": "ipython3",
      "nbconvert_exporter": "python",
      "file_extension": ".py"
    },
    "kaggle": {
      "accelerator": "none",
      "dataSources": [],
      "dockerImageVersionId": 30746,
      "isInternetEnabled": true,
      "language": "python",
      "sourceType": "notebook",
      "isGpuEnabled": false
    }
  },
  "nbformat_minor": 5,
  "nbformat": 4,
  "cells": [
    {
      "cell_type": "markdown",
      "source": [
        "# Load Mall dataset"
      ],
      "metadata": {
        "id": "943b8734-d904-48f1-a832-46695b8da3ab"
      },
      "id": "943b8734-d904-48f1-a832-46695b8da3ab"
    },
    {
      "cell_type": "code",
      "source": [
        "from google.colab import drive\n",
        "drive.mount('/content/drive')"
      ],
      "metadata": {
        "id": "ZfxAGdjP9xz2"
      },
      "execution_count": null,
      "outputs": [],
      "id": "ZfxAGdjP9xz2"
    },
    {
      "cell_type": "code",
      "source": [
        "cd \"/content/drive/MyDrive/mall_dataset\""
      ],
      "metadata": {
        "id": "rEgaM5-n93TK"
      },
      "execution_count": null,
      "outputs": [],
      "id": "rEgaM5-n93TK"
    },
    {
      "cell_type": "code",
      "source": [
        "import numpy as np\n",
        "import os\n",
        "import matplotlib.pyplot as plt\n",
        "import cv2\n",
        "from scipy.io import loadmat\n",
        "from matplotlib.colors import LogNorm\n",
        "import matplotlib.cm as cm\n",
        "import time\n",
        "import skimage.measure\n",
        "import random\n",
        "import os\n",
        "from PIL import Image,ImageFilter,ImageDraw,ImageStat\n",
        "import numpy as np\n",
        "import h5py\n",
        "import cv2\n",
        "import torch\n",
        "from torch.utils.data import Dataset\n",
        "import torchvision.transforms.functional as F\n",
        "import shutil\n",
        "import torch.nn as nn\n",
        "from torchvision import models\n",
        "import scipy.io as io\n",
        "import PIL.Image as Image\n",
        "import glob\n",
        "from matplotlib import pyplot as plt\n",
        "from scipy.ndimage import gaussian_filter\n",
        "import scipy\n",
        "import json\n",
        "from matplotlib import cm as CM\n",
        "\n",
        "%matplotlib inline\n"
      ],
      "metadata": {
        "id": "efc6ec49-5df8-495d-9bb5-55bed814f776"
      },
      "execution_count": null,
      "outputs": [],
      "id": "efc6ec49-5df8-495d-9bb5-55bed814f776"
    },
    {
      "cell_type": "markdown",
      "source": [
        "## Resize images in 299x299"
      ],
      "metadata": {
        "id": "BfMWkE_ptg2k"
      },
      "id": "BfMWkE_ptg2k"
    },
    {
      "cell_type": "code",
      "source": [
        "from PIL import Image\n",
        "import os\n",
        "\n",
        "def reduce_resolution(input_folder, output_folder, output_width=299, output_height=299):\n",
        "    if not os.path.exists(output_folder):\n",
        "        os.makedirs(output_folder)\n",
        "\n",
        "    for file_name in os.listdir(input_folder):\n",
        "        input_file_path = os.path.join(input_folder, file_name)\n",
        "\n",
        "        if os.path.isfile(input_file_path) and file_name.lower().endswith(('.png', '.jpg', '.jpeg')):\n",
        "            img = Image.open(input_file_path)\n",
        "\n",
        "            reduced_img = img.resize((output_width, output_height))\n",
        "\n",
        "            output_file_path = os.path.join(output_folder, file_name)\n",
        "            reduced_img.save(output_file_path)\n",
        "\n",
        "            print(f\"Reduced resolution of {file_name} and saved in {output_file_path}\")\n",
        "\n",
        "input_folder = './frames'\n",
        "output_folder = './frames299'\n",
        "\n",
        "reduce_resolution(input_folder, output_folder)\n"
      ],
      "metadata": {
        "id": "wcBl8KOc5J59",
        "collapsed": true,
        "jupyter": {
          "outputs_hidden": true
        }
      },
      "execution_count": null,
      "outputs": [],
      "id": "wcBl8KOc5J59"
    },
    {
      "cell_type": "markdown",
      "source": [
        "## Resize Density Maps"
      ],
      "metadata": {
        "id": "diatzrIutg2m"
      },
      "id": "diatzrIutg2m"
    },
    {
      "cell_type": "code",
      "source": [
        "import numpy as np\n",
        "from PIL import Image\n",
        "import os\n",
        "\n",
        "def reduce_resolution_npy_folder(input_folder, output_folder, output_width=120, output_height=160):\n",
        "    if not os.path.exists(output_folder):\n",
        "        os.makedirs(output_folder)\n",
        "\n",
        "    for file_name in os.listdir(input_folder):\n",
        "        if file_name.lower().endswith('.npy'):\n",
        "            input_file_path = os.path.join(input_folder, file_name)\n",
        "            output_file_path = os.path.join(output_folder, file_name)\n",
        "\n",
        "            images = np.load(input_file_path)\n",
        "\n",
        "            resized_images = []\n",
        "\n",
        "            for img_array in images:\n",
        "                img = Image.fromarray(img_array)\n",
        "\n",
        "                resized_img = img.resize((output_width, output_height))\n",
        "\n",
        "                resized_img_array = np.array(resized_img)\n",
        "\n",
        "                resized_images.append(resized_img_array)\n",
        "\n",
        "            resized_images_array = np.array(resized_images)\n",
        "\n",
        "            np.save(output_file_path, resized_images_array)\n",
        "\n",
        "            print(f\"Reduced resolution of {file_name} and saved in {output_file_path}\")\n",
        "\n",
        "input_folder = './density_maps120x160'\n",
        "output_folder = './density299'\n",
        "\n",
        "reduce_resolution_npy_folder(input_folder, output_folder)\n"
      ],
      "metadata": {
        "id": "m1rxVzgv-aVR",
        "collapsed": true,
        "jupyter": {
          "outputs_hidden": true
        }
      },
      "execution_count": null,
      "outputs": [],
      "id": "m1rxVzgv-aVR"
    },
    {
      "cell_type": "markdown",
      "source": [
        "## Resize to 28x28"
      ],
      "metadata": {
        "id": "rTZbNhTdtg2p"
      },
      "id": "rTZbNhTdtg2p"
    },
    {
      "cell_type": "code",
      "source": [
        "# can be modified for other resolutions\n",
        "\n",
        "import numpy as np\n",
        "from PIL import Image\n",
        "import os\n",
        "\n",
        "\n",
        "def resize_image_to_28x28(input_path, output_path):\n",
        "    img = np.load(input_path)\n",
        "\n",
        "    pil_img = Image.fromarray(img)\n",
        "\n",
        "    resized_img = pil_img.resize((28, 28), Image.ANTIALIAS)\n",
        "\n",
        "    resized_img_array = np.array(resized_img)\n",
        "\n",
        "    np.save(output_path, resized_img_array)\n",
        "\n",
        "    print(f\"Resized image saved in {output_path}\")\n",
        "\n",
        "def process_images_in_folder(input_folder, output_folder):\n",
        "    os.makedirs(output_folder, exist_ok=True)\n",
        "\n",
        "    for filename in os.listdir(input_folder):\n",
        "        if filename.endswith(\".npy\"):\n",
        "            input_path = os.path.join(input_folder, filename)\n",
        "            output_path = os.path.join(output_folder, filename)\n",
        "            resize_image_to_28x28(input_path, output_path)\n",
        "\n",
        "input_folder = './density_maps'\n",
        "output_folder= './density299'\n",
        "\n",
        "process_images_in_folder(input_folder, output_folder)\n"
      ],
      "metadata": {
        "id": "pCtDu9PugFng"
      },
      "execution_count": null,
      "outputs": [],
      "id": "pCtDu9PugFng"
    }
  ]
}