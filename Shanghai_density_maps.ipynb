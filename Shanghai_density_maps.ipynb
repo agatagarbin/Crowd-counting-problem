{
  "metadata": {
    "kernelspec": {
      "display_name": "Python 3",
      "language": "python",
      "name": "python3"
    },
    "language_info": {
      "name": "python",
      "version": "3.10.13",
      "mimetype": "text/x-python",
      "codemirror_mode": {
        "name": "ipython",
        "version": 3
      },
      "pygments_lexer": "ipython3",
      "nbconvert_exporter": "python",
      "file_extension": ".py"
    },
    "colab": {
      "provenance": []
    },
    "kaggle": {
      "accelerator": "none",
      "dataSources": [],
      "dockerImageVersionId": 30746,
      "isInternetEnabled": true,
      "language": "python",
      "sourceType": "notebook",
      "isGpuEnabled": false
    }
  },
  "nbformat_minor": 5,
  "nbformat": 4,
  "cells": [
    {
      "cell_type": "markdown",
      "source": [
        "# Load Shanghai-Tech Dataset"
      ],
      "metadata": {
        "id": "943b8734-d904-48f1-a832-46695b8da3ab"
      },
      "id": "943b8734-d904-48f1-a832-46695b8da3ab"
    },
    {
      "cell_type": "code",
      "source": [
        "from google.colab import drive\n",
        "drive.mount('/content/drive')"
      ],
      "metadata": {
        "id": "ZfxAGdjP9xz2"
      },
      "execution_count": null,
      "outputs": [],
      "id": "ZfxAGdjP9xz2"
    },
    {
      "cell_type": "code",
      "source": [
        "cd \"/content/drive/MyDrive/part_B_final\""
      ],
      "metadata": {
        "id": "rEgaM5-n93TK"
      },
      "execution_count": null,
      "outputs": [],
      "id": "rEgaM5-n93TK"
    },
    {
      "cell_type": "code",
      "source": [
        "import numpy as np\n",
        "import os\n",
        "import matplotlib.pyplot as plt\n",
        "import cv2\n",
        "from scipy.io import loadmat\n",
        "from matplotlib.colors import LogNorm\n",
        "import matplotlib.cm as cm\n",
        "import time\n",
        "import skimage.measure\n",
        "import random\n",
        "import os\n",
        "from PIL import Image,ImageFilter,ImageDraw,ImageStat\n",
        "import numpy as np\n",
        "import h5py\n",
        "import cv2\n",
        "import torch\n",
        "from torch.utils.data import Dataset\n",
        "import torchvision.transforms.functional as F\n",
        "import shutil\n",
        "import torch.nn as nn\n",
        "from torchvision import models\n",
        "import scipy.io as io\n",
        "import PIL.Image as Image\n",
        "import glob\n",
        "from matplotlib import pyplot as plt\n",
        "from scipy.ndimage import gaussian_filter\n",
        "import scipy\n",
        "import json\n",
        "from matplotlib import cm as CM\n",
        "\n",
        "%matplotlib inline\n"
      ],
      "metadata": {
        "execution": {
          "iopub.execute_input": "2021-06-04T18:02:09.536739Z",
          "iopub.status.busy": "2021-06-04T18:02:09.536739Z",
          "iopub.status.idle": "2021-06-04T18:02:09.555688Z",
          "shell.execute_reply": "2021-06-04T18:02:09.554690Z",
          "shell.execute_reply.started": "2021-06-04T18:02:09.536739Z"
        },
        "tags": [],
        "id": "efc6ec49-5df8-495d-9bb5-55bed814f776"
      },
      "execution_count": null,
      "outputs": [],
      "id": "efc6ec49-5df8-495d-9bb5-55bed814f776"
    },
    {
      "cell_type": "markdown",
      "source": [
        "## Example of image in the Dataset"
      ],
      "metadata": {
        "id": "3YZc5x7Btq_g"
      },
      "id": "3YZc5x7Btq_g"
    },
    {
      "cell_type": "code",
      "source": [
        "path = \".../test_data/images/\"\n",
        "for name in sorted(os.listdir(path = path))[3:]:\n",
        "    print(name)\n",
        "    img = cv2.cvtColor(cv2.imread(path + name), cv2.COLOR_BGR2RGB)\n",
        "    break\n",
        "\n",
        "_ = plt.imshow(img)"
      ],
      "metadata": {
        "execution": {
          "iopub.execute_input": "2021-06-04T18:02:09.676128Z",
          "iopub.status.busy": "2021-06-04T18:02:09.676128Z",
          "iopub.status.idle": "2021-06-04T18:02:09.940511Z",
          "shell.execute_reply": "2021-06-04T18:02:09.939519Z",
          "shell.execute_reply.started": "2021-06-04T18:02:09.676128Z"
        },
        "tags": [],
        "id": "f11645d9-89b1-4703-a594-c461d00ddc76"
      },
      "execution_count": null,
      "outputs": [],
      "id": "f11645d9-89b1-4703-a594-c461d00ddc76"
    },
    {
      "cell_type": "code",
      "source": [
        "path = \".../test_data/ground_truth/\"\n",
        "for name in sorted(os.listdir(path = path))[3:]:\n",
        "    print(name)\n",
        "    heads = loadmat(path + name)\n",
        "    break\n",
        "\n",
        "\n",
        "plt.figure(figsize=(12, 6))\n",
        "plt.subplot(1, 2, 1)\n",
        "plt.imshow(img)\n",
        "plt.subplot(1, 2, 2)\n",
        "plt.imshow(img)\n",
        "print(f\"Number of people: {len(heads['image_info'][0, 0][0, 0][0])}\")\n",
        "\n",
        "for x,y in heads[\"image_info\"][0, 0][0, 0][0]:\n",
        "    plt.scatter(round(x),round(y), s = 50, marker = \"x\", color = \"r\")"
      ],
      "metadata": {
        "execution": {
          "iopub.execute_input": "2021-06-04T18:02:09.942504Z",
          "iopub.status.busy": "2021-06-04T18:02:09.941508Z",
          "iopub.status.idle": "2021-06-04T18:02:11.002108Z",
          "shell.execute_reply": "2021-06-04T18:02:11.002108Z",
          "shell.execute_reply.started": "2021-06-04T18:02:09.942504Z"
        },
        "tags": [],
        "id": "b5780bf1-f3b3-4dfc-8daf-100971dd2de3"
      },
      "execution_count": null,
      "outputs": [],
      "id": "b5780bf1-f3b3-4dfc-8daf-100971dd2de3"
    },
    {
      "cell_type": "markdown",
      "source": [
        "## Definition of the Density Map Function"
      ],
      "metadata": {
        "id": "tLno3Fvltq_i"
      },
      "id": "tLno3Fvltq_i"
    },
    {
      "cell_type": "code",
      "source": [
        "def density_map(image, heads):\n",
        "    output = np.zeros(image.shape[:-1])\n",
        "    x = heads[\"image_info\"][0, 0][0, 0][0][:,0]\n",
        "    y = heads[\"image_info\"][0, 0][0, 0][0][:,1]\n",
        "\n",
        "    for x_choord, y_choord in zip(x, y):\n",
        "        density_i = np.zeros(image.shape[:-1])\n",
        "        try:\n",
        "            density_i[round(y_choord),round(x_choord)] = 1\n",
        "        except:\n",
        "            pass\n",
        "        nearest_distance = np.min(np.linalg.norm(x_choord - y_choord))\n",
        "        sigma = 0.3 * nearest_distance\n",
        "        kernel_size = 3\n",
        "\n",
        "        density_i = cv2.GaussianBlur(density_i, (kernel_size,kernel_size), sigma)\n",
        "        output += density_i\n",
        "    return cv2.GaussianBlur(output, (51,51), sigma)\n",
        "\n",
        "start = time.time()\n",
        "ds_map = density_map(img, heads)\n",
        "print(f\"Time: {time.time() - start}\")"
      ],
      "metadata": {
        "execution": {
          "iopub.execute_input": "2021-06-04T18:02:11.002108Z",
          "iopub.status.busy": "2021-06-04T18:02:11.002108Z",
          "iopub.status.idle": "2021-06-04T18:02:12.570641Z",
          "shell.execute_reply": "2021-06-04T18:02:12.569897Z",
          "shell.execute_reply.started": "2021-06-04T18:02:11.002108Z"
        },
        "tags": [],
        "id": "86a16f1b-661f-4f29-9917-7a8ffc8153e3"
      },
      "execution_count": null,
      "outputs": [],
      "id": "86a16f1b-661f-4f29-9917-7a8ffc8153e3"
    },
    {
      "cell_type": "code",
      "source": [
        "plt.figure(figsize=(12, 6))\n",
        "plt.subplot(1, 2, 1)\n",
        "plt.axis(\"off\")\n",
        "plt.imshow(img)\n",
        "plt.subplot(1, 2, 2)\n",
        "plt.axis(\"off\")\n",
        "_=plt.imshow(ds_map , cmap = cm.jet)"
      ],
      "metadata": {
        "execution": {
          "iopub.execute_input": "2021-06-04T18:02:12.572636Z",
          "iopub.status.busy": "2021-06-04T18:02:12.572636Z",
          "iopub.status.idle": "2021-06-04T18:02:12.878837Z",
          "shell.execute_reply": "2021-06-04T18:02:12.878837Z",
          "shell.execute_reply.started": "2021-06-04T18:02:12.572636Z"
        },
        "tags": [],
        "id": "b869f19d-bc69-4a66-a73b-eebb4f32f43f"
      },
      "execution_count": null,
      "outputs": [],
      "id": "b869f19d-bc69-4a66-a73b-eebb4f32f43f"
    },
    {
      "cell_type": "markdown",
      "source": [
        "## Downsampled version 1/8"
      ],
      "metadata": {
        "execution": {
          "iopub.execute_input": "2021-06-04T15:28:39.951498Z",
          "iopub.status.busy": "2021-06-04T15:28:39.950500Z",
          "iopub.status.idle": "2021-06-04T15:28:39.955487Z",
          "shell.execute_reply": "2021-06-04T15:28:39.954493Z",
          "shell.execute_reply.started": "2021-06-04T15:28:39.950500Z"
        },
        "id": "7411a748-02cd-4570-8b90-d20f0dee5fcf"
      },
      "id": "7411a748-02cd-4570-8b90-d20f0dee5fcf"
    },
    {
      "cell_type": "code",
      "source": [
        "def density_map_1_over_8(image, heads):\n",
        "    image = skimage.measure.block_reduce(image, (2,2,1), np.max)\n",
        "    image = skimage.measure.block_reduce(image, (2,2,1), np.max)\n",
        "    image = skimage.measure.block_reduce(image, (2,2,1), np.max)\n",
        "\n",
        "    output = np.zeros(image.shape[:-1])\n",
        "    x = heads[\"image_info\"][0, 0][0, 0][0][:,0]/8\n",
        "    y = heads[\"image_info\"][0, 0][0, 0][0][:,1]/8\n",
        "\n",
        "    for x_choord, y_choord in zip(x, y):\n",
        "        density_i = np.zeros(image.shape[:-1])\n",
        "        try:\n",
        "            density_i[round(y_choord),round(x_choord)] = 1\n",
        "        except:\n",
        "            pass\n",
        "        nearest_distance = np.min(np.linalg.norm(x_choord - y_choord))\n",
        "        sigma = 0.3 * nearest_distance # beta = 0.3 suggested by MCNN paper\n",
        "        kernel_size = 3\n",
        "\n",
        "        density_i = cv2.GaussianBlur(density_i, (kernel_size,kernel_size), sigma)\n",
        "        output += density_i\n",
        "    return cv2.GaussianBlur(output, (5,5), sigma)\n",
        "\n",
        "start = time.time()\n",
        "ds_map = density_map_1_over_8(img, heads)\n",
        "print(f\"Time: {time.time() - start}\")"
      ],
      "metadata": {
        "execution": {
          "iopub.execute_input": "2021-06-04T18:02:15.598256Z",
          "iopub.status.busy": "2021-06-04T18:02:15.598256Z",
          "iopub.status.idle": "2021-06-04T18:02:15.736284Z",
          "shell.execute_reply": "2021-06-04T18:02:15.735426Z",
          "shell.execute_reply.started": "2021-06-04T18:02:15.598256Z"
        },
        "tags": [],
        "id": "75772bc2-7ac5-42a3-9929-1afc1dafcc5b"
      },
      "execution_count": null,
      "outputs": [],
      "id": "75772bc2-7ac5-42a3-9929-1afc1dafcc5b"
    },
    {
      "cell_type": "code",
      "source": [
        "\n",
        "plt.figure(figsize=(12, 6))\n",
        "plt.subplot(1, 2, 1)\n",
        "plt.axis(\"off\")\n",
        "plt.imshow(img)\n",
        "plt.subplot(1, 2, 2)\n",
        "plt.axis(\"off\")\n",
        "_=plt.imshow(ds_map, cmap = cm.jet)"
      ],
      "metadata": {
        "execution": {
          "iopub.execute_input": "2021-06-04T18:02:50.752419Z",
          "iopub.status.busy": "2021-06-04T18:02:50.752419Z",
          "iopub.status.idle": "2021-06-04T18:02:50.982694Z",
          "shell.execute_reply": "2021-06-04T18:02:50.982694Z",
          "shell.execute_reply.started": "2021-06-04T18:02:50.752419Z"
        },
        "tags": [],
        "id": "094835f1-4f48-4863-b557-ea2e323fd6a7"
      },
      "execution_count": null,
      "outputs": [],
      "id": "094835f1-4f48-4863-b557-ea2e323fd6a7"
    },
    {
      "cell_type": "markdown",
      "source": [
        "# Conversion"
      ],
      "metadata": {
        "execution": {
          "iopub.execute_input": "2021-06-04T17:37:15.240476Z",
          "iopub.status.busy": "2021-06-04T17:37:15.239478Z",
          "iopub.status.idle": "2021-06-04T17:37:15.252445Z",
          "shell.execute_reply": "2021-06-04T17:37:15.250449Z",
          "shell.execute_reply.started": "2021-06-04T17:37:15.240476Z"
        },
        "tags": [],
        "id": "c7ffefcf-db83-4a3e-912a-88d3201a0af2"
      },
      "id": "c7ffefcf-db83-4a3e-912a-88d3201a0af2"
    },
    {
      "cell_type": "markdown",
      "source": [
        "Train:"
      ],
      "metadata": {
        "id": "a2fea1ce-3459-478c-aba9-8fce235c52a2"
      },
      "id": "a2fea1ce-3459-478c-aba9-8fce235c52a2"
    },
    {
      "cell_type": "code",
      "source": [
        "import os\n",
        "import cv2\n",
        "from scipy.io import loadmat\n",
        "import numpy as np\n",
        "\n",
        "path_images = \".../train_data/images/\"\n",
        "path_heads = \".../train_data/ground_truth/\"\n",
        "path_save = \".../train_data/maps/\"\n",
        "\n",
        "for i, (img_name, heads_name) in enumerate(zip(sorted(os.listdir(path=path_images)), sorted(os.listdir(path=path_heads)))):\n",
        "    img = cv2.cvtColor(cv2.imread(path_images + img_name), cv2.COLOR_BGR2RGB)\n",
        "    heads = loadmat(path_heads + heads_name)\n",
        "\n",
        "    ds_map_1o8 = density_map_1_over_8(img, heads)\n",
        "\n",
        "    np.save(path_save + img_name[:-4], ds_map_1o8)\n",
        "\n",
        "    if i % 10 == 0:\n",
        "        print(f\"{i+1} density maps done\")\n",
        "\n",
        "print(f\"Total {i+1} density maps generated.\")\n"
      ],
      "metadata": {
        "id": "Uev8Sb7WHm1I"
      },
      "execution_count": null,
      "outputs": [],
      "id": "Uev8Sb7WHm1I"
    },
    {
      "cell_type": "markdown",
      "source": [
        "Test:\n"
      ],
      "metadata": {
        "id": "b5dc080d-534d-4f09-98ef-3a509fb06c25"
      },
      "id": "b5dc080d-534d-4f09-98ef-3a509fb06c25"
    },
    {
      "cell_type": "code",
      "source": [
        "import os\n",
        "import cv2\n",
        "from scipy.io import loadmat\n",
        "import numpy as np\n",
        "\n",
        "path_images = \".../test_data/images/\"\n",
        "path_heads = \".../test_data/ground_truth/\"\n",
        "path_save = \".../test_data/maps/\"\n",
        "\n",
        "for i, (img_name, heads_name) in enumerate(zip(sorted(os.listdir(path=path_images)), sorted(os.listdir(path=path_heads)))):\n",
        "    img = cv2.cvtColor(cv2.imread(path_images + img_name), cv2.COLOR_BGR2RGB)\n",
        "    heads = loadmat(path_heads + heads_name)\n",
        "\n",
        "    ds_map_1o8 = density_map_1_over_8(img, heads)\n",
        "\n",
        "    np.save(path_save + img_name[:-4], ds_map_1o8)\n",
        "\n",
        "    if i % 10 == 0:\n",
        "        print(f\"{i+1} density maps done\")\n",
        "\n",
        "print(f\"Total {i+1} density maps generated for the test data.\")\n"
      ],
      "metadata": {
        "id": "XNE-Kj03IlMN"
      },
      "execution_count": null,
      "outputs": [],
      "id": "XNE-Kj03IlMN"
    },
    {
      "cell_type": "markdown",
      "source": [
        "## Print some"
      ],
      "metadata": {
        "id": "a0cd9954-fd65-4ce4-a39d-937d325f1737"
      },
      "id": "a0cd9954-fd65-4ce4-a39d-937d325f1737"
    },
    {
      "cell_type": "code",
      "source": [
        "to_print = 5\n",
        "plt.figure(figsize=(6, 3 * to_print))\n",
        "\n",
        "for i, (img_name, den_name) in enumerate(zip(sorted(os.listdir(path = path_images)), sorted(os.listdir(path = path_save)))):\n",
        "    if i == to_print: break\n",
        "\n",
        "    img = cv2.cvtColor(cv2.imread(path_images + img_name), cv2.COLOR_BGR2RGB)\n",
        "    ds_map_1o8 = np.load(path_save + den_name)\n",
        "    print(img_name,den_name)\n",
        "    plt.subplot(to_print, 2, i * 2 + 1)\n",
        "    plt.axis(\"off\")\n",
        "    plt.imshow(img)\n",
        "    plt.subplot(to_print, 2, (i+1) * 2)\n",
        "    plt.axis(\"off\")\n",
        "    plt.imshow(ds_map_1o8 , cmap = cm.jet)"
      ],
      "metadata": {
        "execution": {
          "iopub.execute_input": "2021-06-04T18:32:58.269817Z",
          "iopub.status.busy": "2021-06-04T18:32:58.269817Z",
          "iopub.status.idle": "2021-06-04T18:32:59.166140Z",
          "shell.execute_reply": "2021-06-04T18:32:59.165143Z",
          "shell.execute_reply.started": "2021-06-04T18:32:58.269817Z"
        },
        "tags": [],
        "id": "52e4cd22-07ce-4cd8-b891-0da5f78c93a5"
      },
      "execution_count": null,
      "outputs": [],
      "id": "52e4cd22-07ce-4cd8-b891-0da5f78c93a5"
    }
  ]
}